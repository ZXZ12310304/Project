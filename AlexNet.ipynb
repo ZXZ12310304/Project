{
 "cells": [
  {
   "cell_type": "markdown",
   "metadata": {},
   "source": [
    "### 4.1 AlexNet\n",
    "\n",
    "- `ImageNet 数据集` (3 x 224 x 224)\n",
    "- 1个11x11的大卷积层，然后跟着5x5中型卷积层，再紧接着连续三个3x3的卷积层\n",
    "- 激活函数从 Sigmoid 换成了 ReLU\n",
    "\n",
    "![AlexNet网络结构图](https://zh.d2l.ai/_images/alexnet.svg)\n"
   ]
  },
  {
   "cell_type": "code",
   "execution_count": 1,
   "metadata": {},
   "outputs": [],
   "source": [
    "import torch\n",
    "import torch.nn as nn"
   ]
  },
  {
   "cell_type": "code",
   "execution_count": 30,
   "metadata": {},
   "outputs": [],
   "source": [
    "class AlexNet(nn.Module):\n",
    "    \"\"\" AlexNet 深层卷积神经网络 \"\"\"\n",
    "    def __init__(self):\n",
    "        super().__init__()\n",
    "        # 卷积层\n",
    "        self.conv = nn.Sequential(nn.Conv2d(1, 96, kernel_size=11, stride=4, padding=1), \n",
    "                                  nn.ReLU(), \n",
    "                                  nn.MaxPool2d(kernel_size=3, stride=2), \n",
    "                                  \n",
    "                                  nn.Conv2d(96, 256, kernel_size=5, padding=2), \n",
    "                                  nn.ReLU(), \n",
    "                                  nn.MaxPool2d(kernel_size=3, stride=2), \n",
    "                                  \n",
    "                                  # 使用3个连续的 3x3 卷积层\n",
    "                                  nn.Conv2d(256, 384, kernel_size=3, padding=1), \n",
    "                                  nn.ReLU(), \n",
    "                                  nn.Conv2d(384, 384, kernel_size=3, padding=1), \n",
    "                                  nn.ReLU(), \n",
    "                                  nn.Conv2d(384, 256, kernel_size=3, padding=1), \n",
    "                                  nn.ReLU(), \n",
    "                                  nn.MaxPool2d(kernel_size=3, stride=2), \n",
    "                                  \n",
    "                                  nn.Flatten())\n",
    "        \n",
    "        self.fc = nn.Sequential(nn.Linear(5*5*256, 4096), \n",
    "                                nn.ReLU(), \n",
    "                                nn.Linear(4096, 4096), \n",
    "                                nn.ReLU(), \n",
    "                                nn.Linear(4096, 10))\n",
    "        \n",
    "    def forward(self, x):\n",
    "        \"\"\" 前向传播方法 \"\"\"\n",
    "        x_flatten = self.conv(x)\n",
    "        return self.fc(x_flatten)"
   ]
  },
  {
   "cell_type": "code",
   "execution_count": 32,
   "metadata": {},
   "outputs": [],
   "source": [
    "model = AlexNet()"
   ]
  },
  {
   "cell_type": "code",
   "execution_count": 34,
   "metadata": {},
   "outputs": [
    {
     "data": {
      "text/plain": [
       "torch.Size([16, 10])"
      ]
     },
     "execution_count": 34,
     "metadata": {},
     "output_type": "execute_result"
    }
   ],
   "source": [
    "x = torch.rand(16, 1, 224, 224)\n",
    "output = model(x)\n",
    "output.shape"
   ]
  },
  {
   "cell_type": "code",
   "execution_count": 36,
   "metadata": {},
   "outputs": [],
   "source": [
    "y_true = 0"
   ]
  },
  {
   "cell_type": "code",
   "execution_count": 38,
   "metadata": {},
   "outputs": [
    {
     "data": {
      "text/plain": [
       "1"
      ]
     },
     "execution_count": 38,
     "metadata": {},
     "output_type": "execute_result"
    }
   ],
   "source": [
    "y_true += (torch.tensor([9, 0, 1,2,3,4,5,6,7,8,9,0, 1,2,3,4]) == torch.argmax(output, dim=-1)).sum().item()\n",
    "y_true"
   ]
  },
  {
   "cell_type": "markdown",
   "metadata": {},
   "source": [
    "#### 4.1.1 DataLoader"
   ]
  },
  {
   "cell_type": "code",
   "execution_count": 3,
   "metadata": {},
   "outputs": [
    {
     "data": {
      "text/plain": [
       "(60000, 10000)"
      ]
     },
     "execution_count": 3,
     "metadata": {},
     "output_type": "execute_result"
    }
   ],
   "source": [
    "import torchvision\n",
    "import torchvision.transforms as transforms\n",
    "from torch.utils import data\n",
    "from torch.utils.data import DataLoader\n",
    "\n",
    "trans = transforms.Compose([transforms.ToTensor(), \n",
    "                            transforms.Resize((224, 224))])\n",
    "\n",
    "mnist_train = torchvision.datasets.FashionMNIST(root=\"../data\", train=True, transform=trans, download = True)\n",
    "mnist_test = torchvision.datasets.FashionMNIST(root=\"../data\", train=False, transform=trans, download = True)\n",
    "\n",
    "len(mnist_train), len(mnist_test)"
   ]
  },
  {
   "cell_type": "code",
   "execution_count": 5,
   "metadata": {},
   "outputs": [
    {
     "data": {
      "text/plain": [
       "(235, 40)"
      ]
     },
     "execution_count": 5,
     "metadata": {},
     "output_type": "execute_result"
    }
   ],
   "source": [
    "train_dataloader = DataLoader(mnist_train, batch_size=256, shuffle=True)\n",
    "test_dataloader = DataLoader(mnist_test, batch_size=256, shuffle=False)\n",
    "\n",
    "len(train_dataloader), len(test_dataloader)"
   ]
  },
  {
   "cell_type": "markdown",
   "metadata": {},
   "source": [
    "#### 4.1.2 Model"
   ]
  },
  {
   "cell_type": "code",
   "execution_count": 7,
   "metadata": {},
   "outputs": [
    {
     "data": {
      "text/plain": [
       "device(type='cuda')"
      ]
     },
     "execution_count": 7,
     "metadata": {},
     "output_type": "execute_result"
    }
   ],
   "source": [
    "device = torch.device(\"cuda\") if torch.cuda.is_available() else torch.device(\"cpu\")\n",
    "device"
   ]
  },
  {
   "cell_type": "code",
   "execution_count": 48,
   "metadata": {},
   "outputs": [
    {
     "data": {
      "text/plain": [
       "AlexNet(\n",
       "  (conv): Sequential(\n",
       "    (0): Conv2d(1, 96, kernel_size=(11, 11), stride=(4, 4), padding=(1, 1))\n",
       "    (1): ReLU()\n",
       "    (2): MaxPool2d(kernel_size=3, stride=2, padding=0, dilation=1, ceil_mode=False)\n",
       "    (3): Conv2d(96, 256, kernel_size=(5, 5), stride=(1, 1), padding=(2, 2))\n",
       "    (4): ReLU()\n",
       "    (5): MaxPool2d(kernel_size=3, stride=2, padding=0, dilation=1, ceil_mode=False)\n",
       "    (6): Conv2d(256, 384, kernel_size=(3, 3), stride=(1, 1), padding=(1, 1))\n",
       "    (7): ReLU()\n",
       "    (8): Conv2d(384, 384, kernel_size=(3, 3), stride=(1, 1), padding=(1, 1))\n",
       "    (9): ReLU()\n",
       "    (10): Conv2d(384, 256, kernel_size=(3, 3), stride=(1, 1), padding=(1, 1))\n",
       "    (11): ReLU()\n",
       "    (12): MaxPool2d(kernel_size=3, stride=2, padding=0, dilation=1, ceil_mode=False)\n",
       "    (13): Flatten(start_dim=1, end_dim=-1)\n",
       "  )\n",
       "  (fc): Sequential(\n",
       "    (0): Linear(in_features=6400, out_features=4096, bias=True)\n",
       "    (1): ReLU()\n",
       "    (2): Linear(in_features=4096, out_features=4096, bias=True)\n",
       "    (3): ReLU()\n",
       "    (4): Linear(in_features=4096, out_features=10, bias=True)\n",
       "  )\n",
       ")"
      ]
     },
     "execution_count": 48,
     "metadata": {},
     "output_type": "execute_result"
    }
   ],
   "source": [
    "model = AlexNet().to(device)\n",
    "model"
   ]
  },
  {
   "cell_type": "markdown",
   "metadata": {},
   "source": [
    "#### 4.1.3 Train & Test Model"
   ]
  },
  {
   "cell_type": "code",
   "execution_count": 189,
   "metadata": {},
   "outputs": [
    {
     "data": {
      "text/plain": [
       "(torch.Size([256, 1, 224, 224]), torch.Size([256]))"
      ]
     },
     "execution_count": 189,
     "metadata": {},
     "output_type": "execute_result"
    }
   ],
   "source": [
    "x, y = next(iter(train_dataloader))\n",
    "x.shape, y.shape"
   ]
  },
  {
   "cell_type": "code",
   "execution_count": 191,
   "metadata": {},
   "outputs": [],
   "source": [
    "def train_model(model,train_dataloader,loss_func,optimizer):\n",
    "    \"\"\" 模型训练函数 \"\"\"\n",
    "    model.train()\n",
    "    total_loss = 0.\n",
    "    for x,y in train_dataloader:\n",
    "        y_hat = model(x.to(device))\n",
    "        loss = loss_func(y_hat,y.to(device))\n",
    "\n",
    "        optimizer.zero_grad()\n",
    "        loss.backward()\n",
    "        optimizer.step()\n",
    "\n",
    "        total_loss += loss.item()\n",
    "    return total_loss / len(train_dataloader)\n",
    "\n",
    "def test_model(model,train_dataloader,loss_func):\n",
    "    \"\"\" 模型测试函数 \"\"\"\n",
    "    model.eval()\n",
    "\n",
    "    y_true = 0\n",
    "    total_loss = 0.\n",
    "    for x,y in train_dataloader:\n",
    "        y_hat = model(x.to(device))\n",
    "        loss = loss_func(y_hat,y.to(device))\n",
    "\n",
    "        y_true += (y == torch.argmax(y_hat, dim=-1)).sum().item()\n",
    "\n",
    "        total_loss += loss.item()\n",
    "    print(f'Acc:{round(y_true / len(test_dataloader.dataset))}')\n",
    "    return total_loss / len(test_dataloader)"
   ]
  },
  {
   "cell_type": "code",
   "execution_count": 82,
   "metadata": {},
   "outputs": [],
   "source": [
    "model = AlexNet().to(device)\n",
    "loss_func = nn.CrossEntropyLoss()\n",
    "optimizer = torch.optim.Adam(model.parameters(), lr=1e-3)"
   ]
  },
  {
   "cell_type": "code",
   "execution_count": 84,
   "metadata": {},
   "outputs": [
    {
     "name": "stdout",
     "output_type": "stream",
     "text": [
      "0.7140229557422881\n",
      "0.34150512516498566\n",
      "0.29000242606122445\n",
      "0.25015607863030537\n",
      "0.2255410944527768\n"
     ]
    }
   ],
   "source": [
    "n_epoch = 5\n",
    "\n",
    "train_loss_list = []\n",
    "test_loss_list = []\n",
    "for i in range(n_epoch):\n",
    "    train_loss = train_model(model, train_dataloader, loss_func, optimizer)\n",
    "    test_loss, acc = test_model(model, train_dataloader, loss_func)\n",
    "    \n",
    "    train_loss_list.append(train_loss)\n",
    "    test_loss_list.append(test_loss)\n",
    "    print(train_loss)"
   ]
  },
  {
   "cell_type": "code",
   "execution_count": 86,
   "metadata": {},
   "outputs": [
    {
     "data": {
      "image/png": "[encoded data removed]",
      "text/plain": [
       "<Figure size 800x400 with 1 Axes>"
      ]
     },
     "metadata": {},
     "output_type": "display_data"
    }
   ],
   "source": [
    "import matplotlib.pyplot as plt\n",
    "import os\n",
    "os.environ['KMP_DUPLICATE_LIB_OK'] = 'True'\n",
    "\n",
    "plt.figure(figsize=(8, 4))\n",
    "plt.plot(train_loss_list, label=\"train loss\")\n",
    "plt.plot(test_loss_list, label=\"test loss\")\n",
    "plt.title(\"Model Loss\")\n",
    "plt.grid()\n",
    "plt.legend()\n",
    "plt.show()"
   ]
  }
 ],
 "metadata": {
  "kernelspec": {
   "display_name": "pytorch",
   "language": "python",
   "name": "pytorch"
  },
  "language_info": {
   "codemirror_mode": {
    "name": "ipython",
    "version": 3
   },
   "file_extension": ".py",
   "mimetype": "text/x-python",
   "name": "python",
   "nbconvert_exporter": "python",
   "pygments_lexer": "ipython3",
   "version": "3.9.21"
  }
 },
 "nbformat": 4,
 "nbformat_minor": 4
}
