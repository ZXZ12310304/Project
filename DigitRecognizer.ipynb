{
 "cells": [
  {
   "cell_type": "code",
   "execution_count": 4,
   "id": "304c7b67-68b3-4ffa-8930-c3fe89d16dfa",
   "metadata": {},
   "outputs": [],
   "source": [
    "import torch.nn as nn\n",
    "import torch\n",
    "import torch.nn.functional as F\n",
    "import matplotlib.pyplot as plt\n",
    "import torchvision\n",
    "import torchvision.transforms as transforms\n",
    "from torch.utils.data import DataLoader"
   ]
  },
  {
   "cell_type": "markdown",
   "id": "56b969d3-35a1-4a3d-8a3e-60309d32376d",
   "metadata": {},
   "source": [
    "## 数据处理"
   ]
  },
  {
   "cell_type": "code",
   "execution_count": 6,
   "id": "f59e8c09-5cb1-449a-8b46-46fa7ac45aac",
   "metadata": {},
   "outputs": [
    {
     "name": "stdout",
     "output_type": "stream",
     "text": [
      "Downloading http://yann.lecun.com/exdb/mnist/train-images-idx3-ubyte.gz\n",
      "Failed to download (trying next):\n",
      "HTTP Error 404: Not Found\n",
      "\n",
      "Downloading https://ossci-datasets.s3.amazonaws.com/mnist/train-images-idx3-ubyte.gz\n",
      "Downloading https://ossci-datasets.s3.amazonaws.com/mnist/train-images-idx3-ubyte.gz to ./data\\MNIST\\raw\\train-images-idx3-ubyte.gz\n"
     ]
    },
    {
     "name": "stderr",
     "output_type": "stream",
     "text": [
      "100.0%\n"
     ]
    },
    {
     "name": "stdout",
     "output_type": "stream",
     "text": [
      "Extracting ./data\\MNIST\\raw\\train-images-idx3-ubyte.gz to ./data\\MNIST\\raw\n",
      "\n",
      "Downloading http://yann.lecun.com/exdb/mnist/train-labels-idx1-ubyte.gz\n",
      "Failed to download (trying next):\n",
      "HTTP Error 404: Not Found\n",
      "\n",
      "Downloading https://ossci-datasets.s3.amazonaws.com/mnist/train-labels-idx1-ubyte.gz\n",
      "Downloading https://ossci-datasets.s3.amazonaws.com/mnist/train-labels-idx1-ubyte.gz to ./data\\MNIST\\raw\\train-labels-idx1-ubyte.gz\n"
     ]
    },
    {
     "name": "stderr",
     "output_type": "stream",
     "text": [
      "100.0%\n"
     ]
    },
    {
     "name": "stdout",
     "output_type": "stream",
     "text": [
      "Extracting ./data\\MNIST\\raw\\train-labels-idx1-ubyte.gz to ./data\\MNIST\\raw\n",
      "\n",
      "Downloading http://yann.lecun.com/exdb/mnist/t10k-images-idx3-ubyte.gz\n",
      "Failed to download (trying next):\n",
      "HTTP Error 404: Not Found\n",
      "\n",
      "Downloading https://ossci-datasets.s3.amazonaws.com/mnist/t10k-images-idx3-ubyte.gz\n",
      "Downloading https://ossci-datasets.s3.amazonaws.com/mnist/t10k-images-idx3-ubyte.gz to ./data\\MNIST\\raw\\t10k-images-idx3-ubyte.gz\n"
     ]
    },
    {
     "name": "stderr",
     "output_type": "stream",
     "text": [
      "100.0%\n"
     ]
    },
    {
     "name": "stdout",
     "output_type": "stream",
     "text": [
      "Extracting ./data\\MNIST\\raw\\t10k-images-idx3-ubyte.gz to ./data\\MNIST\\raw\n",
      "\n",
      "Downloading http://yann.lecun.com/exdb/mnist/t10k-labels-idx1-ubyte.gz\n",
      "Failed to download (trying next):\n",
      "HTTP Error 404: Not Found\n",
      "\n",
      "Downloading https://ossci-datasets.s3.amazonaws.com/mnist/t10k-labels-idx1-ubyte.gz\n",
      "Downloading https://ossci-datasets.s3.amazonaws.com/mnist/t10k-labels-idx1-ubyte.gz to ./data\\MNIST\\raw\\t10k-labels-idx1-ubyte.gz\n"
     ]
    },
    {
     "name": "stderr",
     "output_type": "stream",
     "text": [
      "100.0%"
     ]
    },
    {
     "name": "stdout",
     "output_type": "stream",
     "text": [
      "Extracting ./data\\MNIST\\raw\\t10k-labels-idx1-ubyte.gz to ./data\\MNIST\\raw\n",
      "\n"
     ]
    },
    {
     "name": "stderr",
     "output_type": "stream",
     "text": [
      "\n"
     ]
    }
   ],
   "source": [
    "trans = transforms.Compose([transforms.ToTensor()])\n",
    "\n",
    "dataset = torchvision.datasets.MNIST(root=\"./data\", train=False, transform=trans, download=True)\n",
    "dataloader = DataLoader(dataset, batch_size=256, shuffle=True)"
   ]
  },
  {
   "cell_type": "code",
   "execution_count": 8,
   "id": "2f5c0442-fcf8-4b10-8fba-363fe6b725dc",
   "metadata": {},
   "outputs": [
    {
     "data": {
      "text/plain": [
       "torch.Size([256, 1, 28, 28])"
      ]
     },
     "execution_count": 8,
     "metadata": {},
     "output_type": "execute_result"
    }
   ],
   "source": [
    "x, y = next(iter(dataloader))\n",
    "x.shape"
   ]
  },
  {
   "cell_type": "markdown",
   "id": "58a06e77-c97f-499a-a240-66f95ad00f32",
   "metadata": {},
   "source": [
    "## 模型构建"
   ]
  },
  {
   "cell_type": "markdown",
   "id": "084b4a03-a508-4e06-a9e9-3a62a3ee33ab",
   "metadata": {},
   "source": [
    "**VAE模型定义**"
   ]
  },
  {
   "cell_type": "code",
   "execution_count": 12,
   "id": "08eb5e60-c1f9-40dc-b289-d8e422a637f7",
   "metadata": {},
   "outputs": [],
   "source": [
    "class VAE(nn.Module):\n",
    "    \"\"\" 变分自编码器 \"\"\"\n",
    "    def __init__(self, latent_size=32):\n",
    "        super().__init__()\n",
    "        # Encoder 编码器\n",
    "        self.encoder = nn.Sequential(nn.Conv2d(1, 16, kernel_size=5, padding=2), \n",
    "                                     nn.ReLU(), \n",
    "                                     nn.Conv2d(16, 32, kernel_size=5, padding=2), \n",
    "                                     nn.ReLU(),\n",
    "                                     nn.Flatten())\n",
    "        \n",
    "        # 计算 Latent Space的均值和对数方差\n",
    "        self.fc_mu = nn.Linear(32*28*28, latent_size)\n",
    "        self.fc_logvar = nn.Linear(32*28*28, latent_size)\n",
    "        \n",
    "        # Decoder 解码器\n",
    "        self.decoder = nn.Sequential(nn.Linear(latent_size, 32*28*28), \n",
    "                                     nn.ReLU(), \n",
    "                                     nn.Unflatten(-1, (32, 28, 28)),\n",
    "                                     nn.ConvTranspose2d(32, 16, kernel_size=5, padding=2),\n",
    "                                     nn.ReLU(), \n",
    "                                     nn.ConvTranspose2d(16, 1, kernel_size=5, padding=2),\n",
    "                                     nn.Sigmoid())   # 将输出压缩在 (0, 1) 的范围内\n",
    "        \n",
    "    def reparameterize(self, mu, logvar):\n",
    "        \"\"\" 重参数化方法 \"\"\"\n",
    "        std = torch.exp(0.5 * logvar)\n",
    "        eps = torch.randn_like(std)\n",
    "        return mu + eps * std\n",
    "\n",
    "    def forward(self, x):\n",
    "        \"\"\" 前向传播方法 \"\"\"\n",
    "        # Encoding 编码过程\n",
    "        hidden = self.encoder(x)\n",
    "        mu = self.fc_mu(hidden)\n",
    "        logvar = self.fc_logvar(hidden)\n",
    "\n",
    "        # Reparameterize 重参数化过程\n",
    "        z = self.reparameterize(mu, logvar)\n",
    "\n",
    "        # Decoding 解码过程\n",
    "        x_recon = self.decoder(z)\n",
    "        return x_recon, mu, logvar"
   ]
  },
  {
   "cell_type": "code",
   "execution_count": 16,
   "id": "6c1b0488-7c2d-4251-9add-4460e3e95945",
   "metadata": {},
   "outputs": [
    {
     "data": {
      "text/plain": [
       "(torch.Size([16, 1, 28, 28]), torch.Size([16, 32]), torch.Size([16, 32]))"
      ]
     },
     "execution_count": 16,
     "metadata": {},
     "output_type": "execute_result"
    }
   ],
   "source": [
    "model = VAE()\n",
    "x_recon, mu, logvar = model(torch.rand(16, 1, 28, 28))\n",
    "x_recon.shape, mu.shape, logvar.shape"
   ]
  },
  {
   "cell_type": "markdown",
   "id": "db12cd53-5efe-4286-ac3e-f7e57dc5a1e2",
   "metadata": {},
   "source": [
    "**损失函数**"
   ]
  },
  {
   "cell_type": "code",
   "execution_count": 19,
   "id": "d6264367-610b-4c23-9a06-2db8d15c8998",
   "metadata": {},
   "outputs": [],
   "source": [
    "def vae_loss(x_recon, x, mu, logvar):\n",
    "    \"\"\" 自定义损失函数, 用于描述重建损失 Loss = 重构损失 + KL散度 \"\"\"\n",
    "    # 重构损失\n",
    "    BCE = F.binary_cross_entropy(x_recon, x.view(-1, 1, 28, 28), reduction=\"sum\")\n",
    "    \n",
    "    # KL散度\n",
    "    KLD = -0.5 * torch.sum(1 + logvar - mu.pow(2) - logvar.exp())\n",
    "    return BCE + KLD"
   ]
  },
  {
   "cell_type": "markdown",
   "id": "67fe1841-f677-4f0b-95ea-b9239f6556c4",
   "metadata": {},
   "source": [
    "**模型构建**"
   ]
  },
  {
   "cell_type": "code",
   "execution_count": 22,
   "id": "977bd66f-8e37-457e-b5f4-787a18c7b5e6",
   "metadata": {},
   "outputs": [
    {
     "data": {
      "text/plain": [
       "device(type='cuda')"
      ]
     },
     "execution_count": 22,
     "metadata": {},
     "output_type": "execute_result"
    }
   ],
   "source": [
    "device = torch.device('cuda') if torch.cuda.is_available() else torch.device('cpu')\n",
    "device"
   ]
  },
  {
   "cell_type": "code",
   "execution_count": 24,
   "id": "00ace022-4d7c-48c1-9e03-b2c014fccf06",
   "metadata": {},
   "outputs": [],
   "source": [
    "model = VAE().to(device)\n",
    "loss_func = vae_loss\n",
    "optimizer = torch.optim.Adam(model.parameters(), lr=1e-3)"
   ]
  },
  {
   "cell_type": "markdown",
   "id": "dfd58f8b-1e1f-43d6-84b3-ac028f129502",
   "metadata": {},
   "source": [
    "## 模型训练与评估"
   ]
  },
  {
   "cell_type": "markdown",
   "id": "613af71a-33a0-4441-9612-cefcd1275b7a",
   "metadata": {},
   "source": [
    "**模型训练**"
   ]
  },
  {
   "cell_type": "code",
   "execution_count": 29,
   "id": "a9afafc0-a4d9-4354-ade2-4e8ed2374e69",
   "metadata": {},
   "outputs": [],
   "source": [
    "def train_model(model, dataloader, loss_func, optimizer):\n",
    "    \"\"\" 模型训练函数 \"\"\"\n",
    "    model.train()\n",
    "    total_loss = 0\n",
    "    for x, _ in dataloader:\n",
    "        x_recon, mu, logvar = model(x.to(device).view(-1, 1, 28, 28))\n",
    "        loss = loss_func(x_recon, x.to(device), mu, logvar)\n",
    "        \n",
    "        optimizer.zero_grad()\n",
    "        loss.backward()\n",
    "        optimizer.step()\n",
    "        \n",
    "        total_loss += loss.item()\n",
    "    return total_loss / len(dataloader)"
   ]
  },
  {
   "cell_type": "code",
   "execution_count": 32,
   "id": "c1d545e6-932b-421d-87f5-a4316c81d63c",
   "metadata": {},
   "outputs": [
    {
     "name": "stdout",
     "output_type": "stream",
     "text": [
      "Epoch 1 loss: 74755.1989\n",
      "Epoch 2 loss: 53448.2273\n",
      "Epoch 3 loss: 49623.3701\n",
      "Epoch 4 loss: 43104.7168\n",
      "Epoch 5 loss: 38033.9216\n",
      "Epoch 6 loss: 34739.3789\n",
      "Epoch 7 loss: 32384.0721\n",
      "Epoch 8 loss: 30825.1609\n",
      "Epoch 9 loss: 29680.5654\n",
      "Epoch 10 loss: 28979.6303\n",
      "Epoch 11 loss: 28413.2033\n",
      "Epoch 12 loss: 28004.5698\n",
      "Epoch 13 loss: 27668.3662\n",
      "Epoch 14 loss: 27498.0437\n",
      "Epoch 15 loss: 27299.318\n",
      "Epoch 16 loss: 27117.6237\n",
      "Epoch 17 loss: 26874.2366\n",
      "Epoch 18 loss: 26682.2209\n",
      "Epoch 19 loss: 26553.2497\n",
      "Epoch 20 loss: 26505.7203\n",
      "Epoch 21 loss: 26381.1649\n",
      "Epoch 22 loss: 26360.2189\n",
      "Epoch 23 loss: 26230.9933\n",
      "Epoch 24 loss: 26201.6479\n",
      "Epoch 25 loss: 26162.2655\n",
      "Epoch 26 loss: 26040.1437\n",
      "Epoch 27 loss: 25987.8255\n",
      "Epoch 28 loss: 25917.0328\n",
      "Epoch 29 loss: 25860.4502\n",
      "Epoch 30 loss: 25796.551\n",
      "Epoch 31 loss: 25750.8742\n",
      "Epoch 32 loss: 25736.7298\n",
      "Epoch 33 loss: 25719.6835\n",
      "Epoch 34 loss: 25732.4635\n",
      "Epoch 35 loss: 25613.7784\n",
      "Epoch 36 loss: 25582.1605\n",
      "Epoch 37 loss: 25582.3495\n",
      "Epoch 38 loss: 25488.7123\n",
      "Epoch 39 loss: 25440.0032\n",
      "Epoch 40 loss: 25414.233\n",
      "Epoch 41 loss: 25371.5299\n",
      "Epoch 42 loss: 25332.4762\n",
      "Epoch 43 loss: 25352.9412\n",
      "Epoch 44 loss: 25285.2854\n",
      "Epoch 45 loss: 25246.454\n",
      "Epoch 46 loss: 25223.9266\n",
      "Epoch 47 loss: 25257.8655\n",
      "Epoch 48 loss: 25259.8177\n",
      "Epoch 49 loss: 25183.4659\n",
      "Epoch 50 loss: 25110.0103\n",
      "Epoch 51 loss: 25112.531\n",
      "Epoch 52 loss: 25088.2691\n",
      "Epoch 53 loss: 25068.1222\n",
      "Epoch 54 loss: 25012.4225\n",
      "Epoch 55 loss: 24993.1846\n",
      "Epoch 56 loss: 25013.3713\n",
      "Epoch 57 loss: 24984.2986\n",
      "Epoch 58 loss: 24990.2526\n",
      "Epoch 59 loss: 24961.7252\n",
      "Epoch 60 loss: 24953.6953\n",
      "Epoch 61 loss: 24931.6668\n",
      "Epoch 62 loss: 24904.9038\n",
      "Epoch 63 loss: 24840.5654\n",
      "Epoch 64 loss: 24826.014\n",
      "Epoch 65 loss: 24760.765\n",
      "Epoch 66 loss: 24822.7071\n",
      "Epoch 67 loss: 24752.9318\n",
      "Epoch 68 loss: 24801.6947\n",
      "Epoch 69 loss: 24721.1752\n",
      "Epoch 70 loss: 24723.1253\n",
      "Epoch 71 loss: 24698.1201\n",
      "Epoch 72 loss: 24686.8529\n",
      "Epoch 73 loss: 24656.6647\n",
      "Epoch 74 loss: 24652.9666\n",
      "Epoch 75 loss: 24650.6442\n",
      "Epoch 76 loss: 24584.1066\n",
      "Epoch 77 loss: 24570.4743\n",
      "Epoch 78 loss: 24573.8879\n",
      "Epoch 79 loss: 24595.8767\n",
      "Epoch 80 loss: 24563.7953\n",
      "Epoch 81 loss: 24556.7216\n",
      "Epoch 82 loss: 24524.1444\n",
      "Epoch 83 loss: 24486.0832\n",
      "Epoch 84 loss: 24506.2428\n",
      "Epoch 85 loss: 24502.097\n",
      "Epoch 86 loss: 24451.5411\n",
      "Epoch 87 loss: 24438.1155\n",
      "Epoch 88 loss: 24421.8418\n",
      "Epoch 89 loss: 24387.7078\n",
      "Epoch 90 loss: 24395.4055\n",
      "Epoch 91 loss: 24327.6176\n",
      "Epoch 92 loss: 24366.2128\n",
      "Epoch 93 loss: 24392.0443\n",
      "Epoch 94 loss: 24342.2726\n",
      "Epoch 95 loss: 24343.4094\n",
      "Epoch 96 loss: 24325.4436\n",
      "Epoch 97 loss: 24318.073\n",
      "Epoch 98 loss: 24281.1445\n",
      "Epoch 99 loss: 24243.6225\n",
      "Epoch 100 loss: 24272.0723\n",
      "Epoch 101 loss: 24237.2256\n",
      "Epoch 102 loss: 24192.697\n",
      "Epoch 103 loss: 24229.3911\n",
      "Epoch 104 loss: 24172.1167\n",
      "Epoch 105 loss: 24181.9534\n",
      "Epoch 106 loss: 24205.8825\n",
      "Epoch 107 loss: 24185.8294\n",
      "Epoch 108 loss: 24167.4659\n",
      "Epoch 109 loss: 24163.7322\n",
      "Epoch 110 loss: 24128.7597\n",
      "Epoch 111 loss: 24121.6904\n",
      "Epoch 112 loss: 24167.0738\n",
      "Epoch 113 loss: 24111.2727\n",
      "Epoch 114 loss: 24083.9416\n",
      "Epoch 115 loss: 24067.6387\n",
      "Epoch 116 loss: 24059.5598\n",
      "Epoch 117 loss: 24068.4922\n",
      "Epoch 118 loss: 24065.2715\n",
      "Epoch 119 loss: 24027.1659\n",
      "Epoch 120 loss: 24005.358\n",
      "Epoch 121 loss: 24024.0873\n",
      "Epoch 122 loss: 23990.9925\n",
      "Epoch 123 loss: 23962.7846\n",
      "Epoch 124 loss: 23945.7765\n",
      "Epoch 125 loss: 23989.108\n",
      "Epoch 126 loss: 23972.4793\n",
      "Epoch 127 loss: 23942.5717\n",
      "Epoch 128 loss: 23957.9134\n",
      "Epoch 129 loss: 23936.3626\n",
      "Epoch 130 loss: 23897.6741\n",
      "Epoch 131 loss: 23928.7658\n",
      "Epoch 132 loss: 23900.4973\n",
      "Epoch 133 loss: 23866.7864\n",
      "Epoch 134 loss: 23863.8334\n",
      "Epoch 135 loss: 23897.9327\n",
      "Epoch 136 loss: 23874.3143\n",
      "Epoch 137 loss: 23899.3554\n",
      "Epoch 138 loss: 23819.8361\n",
      "Epoch 139 loss: 23820.279\n",
      "Epoch 140 loss: 23813.3293\n",
      "Epoch 141 loss: 23818.5135\n",
      "Epoch 142 loss: 23807.0589\n",
      "Epoch 143 loss: 23833.7643\n",
      "Epoch 144 loss: 23781.4879\n",
      "Epoch 145 loss: 23771.0704\n",
      "Epoch 146 loss: 23753.4025\n",
      "Epoch 147 loss: 23789.9716\n",
      "Epoch 148 loss: 23767.6819\n",
      "Epoch 149 loss: 23743.4437\n",
      "Epoch 150 loss: 23754.9212\n",
      "Epoch 151 loss: 23711.2308\n",
      "Epoch 152 loss: 23691.0273\n",
      "Epoch 153 loss: 23681.44\n",
      "Epoch 154 loss: 23711.2752\n",
      "Epoch 155 loss: 23675.0792\n",
      "Epoch 156 loss: 23665.2297\n",
      "Epoch 157 loss: 23666.0205\n",
      "Epoch 158 loss: 23656.9769\n",
      "Epoch 159 loss: 23641.5707\n",
      "Epoch 160 loss: 23682.2676\n",
      "Epoch 161 loss: 23620.7216\n",
      "Epoch 162 loss: 23671.7089\n",
      "Epoch 163 loss: 23588.1829\n",
      "Epoch 164 loss: 23617.7158\n",
      "Epoch 165 loss: 23598.4632\n",
      "Epoch 166 loss: 23613.6676\n",
      "Epoch 167 loss: 23597.0553\n",
      "Epoch 168 loss: 23566.6926\n",
      "Epoch 169 loss: 23578.2983\n",
      "Epoch 170 loss: 23601.6849\n",
      "Epoch 171 loss: 23552.2236\n",
      "Epoch 172 loss: 23569.9613\n",
      "Epoch 173 loss: 23621.7381\n",
      "Epoch 174 loss: 23593.6215\n",
      "Epoch 175 loss: 23533.2802\n",
      "Epoch 176 loss: 23515.3611\n",
      "Epoch 177 loss: 23512.7746\n",
      "Epoch 178 loss: 23496.5604\n",
      "Epoch 179 loss: 23517.1005\n",
      "Epoch 180 loss: 23510.0613\n",
      "Epoch 181 loss: 23501.8302\n",
      "Epoch 182 loss: 23494.0843\n",
      "Epoch 183 loss: 23507.1252\n",
      "Epoch 184 loss: 23474.3378\n",
      "Epoch 185 loss: 23458.0131\n",
      "Epoch 186 loss: 23486.1714\n",
      "Epoch 187 loss: 23461.982\n",
      "Epoch 188 loss: 23463.1767\n",
      "Epoch 189 loss: 23407.8943\n",
      "Epoch 190 loss: 23490.6164\n",
      "Epoch 191 loss: 23455.0985\n",
      "Epoch 192 loss: 23455.4176\n",
      "Epoch 193 loss: 23407.047\n",
      "Epoch 194 loss: 23423.1346\n",
      "Epoch 195 loss: 23393.0393\n",
      "Epoch 196 loss: 23393.8088\n",
      "Epoch 197 loss: 23408.9179\n",
      "Epoch 198 loss: 23389.1334\n",
      "Epoch 199 loss: 23348.3624\n",
      "Epoch 200 loss: 23366.3604\n"
     ]
    }
   ],
   "source": [
    "n_epoch = 200\n",
    "\n",
    "train_loss = []\n",
    "for i in range(n_epoch):\n",
    "    loss = train_model(model, dataloader, loss_func, optimizer)\n",
    "    train_loss.append(loss)\n",
    "    print(f\"Epoch {i+1} loss: {round(loss, 4)}\")"
   ]
  },
  {
   "cell_type": "markdown",
   "id": "fdae9b89-ebda-4a70-8654-e8379f925815",
   "metadata": {},
   "source": [
    "**损失可视化**"
   ]
  },
  {
   "cell_type": "code",
   "execution_count": 36,
   "id": "6354099b-dc39-4b3e-91c3-bc78e745046a",
   "metadata": {},
   "outputs": [
    {
     "data": {
      "image/png": "[encoded data removed]",
      "text/plain": [
       "<Figure size 800x400 with 1 Axes>"
      ]
     },
     "metadata": {},
     "output_type": "display_data"
    }
   ],
   "source": [
    "import matplotlib.pyplot as plt\n",
    "\n",
    "plt.figure(figsize=(8,4))\n",
    "plt.plot(train_loss, label='train loss')\n",
    "plt.title('Model Loss')\n",
    "plt.grid()\n",
    "plt.legend()\n",
    "plt.show()"
   ]
  }
 ],
 "metadata": {
  "kernelspec": {
   "display_name": "pytorch",
   "language": "python",
   "name": "pytorch"
  },
  "language_info": {
   "codemirror_mode": {
    "name": "ipython",
    "version": 3
   },
   "file_extension": ".py",
   "mimetype": "text/x-python",
   "name": "python",
   "nbconvert_exporter": "python",
   "pygments_lexer": "ipython3",
   "version": "3.9.21"
  }
 },
 "nbformat": 4,
 "nbformat_minor": 5
}
