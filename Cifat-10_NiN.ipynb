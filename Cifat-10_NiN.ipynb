{
 "cells": [
  {
   "cell_type": "code",
   "execution_count": 3,
   "id": "3443787d-55e7-4456-989f-0d3eb79e4392",
   "metadata": {},
   "outputs": [],
   "source": [
    "import numpy as np\n",
    "import torch\n",
    "import torch.nn as nn\n",
    "\n",
    "import torch.nn.functional as F\n",
    "import time\n",
    "\n",
    "from torch.utils.data import DataLoader\n",
    "\n",
    "from torchvision import transforms, datasets"
   ]
  },
  {
   "cell_type": "markdown",
   "id": "68add8ad-5bca-48e9-baaa-79b703d85de8",
   "metadata": {},
   "source": [
    "### 模型构建"
   ]
  },
  {
   "cell_type": "code",
   "execution_count": 5,
   "id": "66a99933-abd4-4f2f-b8c0-011a8a99d9f4",
   "metadata": {},
   "outputs": [],
   "source": [
    "def nin_block(in_channels, out_channels, kernel_size, stride, padding):\n",
    "\n",
    "    blk = nn.Sequential(nn.Conv2d(in_channels, out_channels, kernel_size, stride, padding),\n",
    "                       nn.ReLU(),\n",
    "                       nn.Conv2d(out_channels, out_channels, kernel_size=1),\n",
    "                       nn.ReLU(),\n",
    "                       nn.Conv2d(out_channels, out_channels, kernel_size=1),\n",
    "                       nn.ReLU())\n",
    "\n",
    "    return blk"
   ]
  },
  {
   "cell_type": "code",
   "execution_count": 6,
   "id": "f3958b9f-393c-490e-8c52-829de03974fb",
   "metadata": {},
   "outputs": [],
   "source": [
    "class GlobalAvgPool2d(nn.Module): #取代全连接层\n",
    "    # 全局平均池化层可通过将池化窗口设置成输入的高和宽实现\n",
    "    def __init__(self):\n",
    "        super().__init__()\n",
    "\n",
    "    def forward(self, x):\n",
    "        return F.avg_pool2d(x, kernel_size = x.size()[2:]) # X: [batch_size, channels, height, width]"
   ]
  },
  {
   "cell_type": "code",
   "execution_count": 10,
   "id": "50e5b6c7-f8c9-42ce-b869-4405f2934844",
   "metadata": {},
   "outputs": [],
   "source": [
    "net = nn.Sequential(nin_block(3, 96, kernel_size=11, stride=4, padding=0),\n",
    "                   nn.MaxPool2d(kernel_size=2, stride=2), #长宽各缩小一半\n",
    "                   nin_block(96, 256, kernel_size=5,stride=1,padding=2),\n",
    "                   nn.MaxPool2d(kernel_size=2, stride=2),\n",
    "                   nin_block(256, 384, kernel_size=3,stride=1,padding=1),\n",
    "                   nn.MaxPool2d(kernel_size=2, stride=2),\n",
    "                   nin_block(384, 10, kernel_size=3,stride=1,padding=1), #根据标签数量设置最后一个nin_block\n",
    "                   GlobalAvgPool2d(),\n",
    "                   nn.Flatten())"
   ]
  },
  {
   "cell_type": "code",
   "execution_count": 12,
   "id": "818baa03-a2ca-4870-9208-e3dc94601fa8",
   "metadata": {},
   "outputs": [
    {
     "data": {
      "text/plain": [
       "torch.Size([1, 10])"
      ]
     },
     "execution_count": 12,
     "metadata": {},
     "output_type": "execute_result"
    }
   ],
   "source": [
    "x = torch.rand(1,3,224,224)\n",
    "net(x).shape"
   ]
  },
  {
   "cell_type": "code",
   "execution_count": 14,
   "id": "bf770942-b2fe-46e8-9469-78b903e0ba50",
   "metadata": {},
   "outputs": [
    {
     "name": "stdout",
     "output_type": "stream",
     "text": [
      "0 output size torch.Size([1, 96, 54, 54])\n",
      "1 output size torch.Size([1, 96, 27, 27])\n",
      "2 output size torch.Size([1, 256, 27, 27])\n",
      "3 output size torch.Size([1, 256, 13, 13])\n",
      "4 output size torch.Size([1, 384, 13, 13])\n",
      "5 output size torch.Size([1, 384, 6, 6])\n",
      "6 output size torch.Size([1, 10, 6, 6])\n",
      "7 output size torch.Size([1, 10, 1, 1])\n",
      "8 output size torch.Size([1, 10])\n"
     ]
    }
   ],
   "source": [
    "for name, blk in net.named_children():\n",
    "    x = blk(x)\n",
    "    print(name, 'output size', x.shape)"
   ]
  },
  {
   "cell_type": "markdown",
   "id": "1262a85a-2809-4546-ae2b-6aa3833ef554",
   "metadata": {},
   "source": [
    "## 数据集下载与预处理"
   ]
  },
  {
   "cell_type": "code",
   "execution_count": 28,
   "id": "20f3b5d1-9310-4557-baee-b0ad9864b4af",
   "metadata": {},
   "outputs": [
    {
     "name": "stdout",
     "output_type": "stream",
     "text": [
      "Files already downloaded and verified\n",
      "Files already downloaded and verified\n"
     ]
    }
   ],
   "source": [
    "data_transform = transforms.Compose([transforms.Resize(256), #把图片resize为256*256\n",
    "                                   transforms.CenterCrop(224), #随机裁剪为224*224\n",
    "                                   transforms.ToTensor(),\n",
    "                                   transforms.Normalize(mean=[0.485, 0.456, 0.406], std=[0.229, 0.224, 0.225])])\n",
    "\n",
    "\n",
    "train_sets = datasets.CIFAR10(root = 'cifar_10', #选择数据的根目录\n",
    "                             train = True, #选择训练集\n",
    "                             download = True, transform=data_transform) #从网络上下载图片\n",
    "\n",
    "test_sets = datasets.CIFAR10(root = 'cifar_10',\n",
    "                             train = True, #选择测试集\n",
    "                             download = True, transform=data_transform)\n",
    "\n",
    "\n",
    "train_dataloader = DataLoader(train_sets, batch_size=256, shuffle=True)\n",
    "\n",
    "test_dataloader = DataLoader(test_sets, batch_size=64, shuffle=True)"
   ]
  },
  {
   "cell_type": "markdown",
   "id": "4bb06c5b-0069-40eb-b8f8-68ad786c7616",
   "metadata": {},
   "source": [
    "### 评估准确率函数构建"
   ]
  },
  {
   "cell_type": "code",
   "execution_count": 17,
   "id": "4fb294a3-bb20-4726-bd15-cdc4d559b412",
   "metadata": {},
   "outputs": [],
   "source": [
    "device = torch.device('cuda') if torch.cuda.is_available() else torch.device('cpu')"
   ]
  },
  {
   "cell_type": "code",
   "execution_count": 19,
   "id": "53a6a61c-7ce2-43c9-8563-c75f9e1ee13b",
   "metadata": {},
   "outputs": [],
   "source": [
    "def evaluate_accuracy(data_iter, net):\n",
    "    acc_sum, n = 0.0, 0\n",
    "    \n",
    "    net.eval()\n",
    "    for X,y in data_iter:\n",
    "        X = X.to(device)\n",
    "        y = y.to(device)\n",
    "        acc_sum += (net(X).argmax(dim=1) == y).float().sum().item() #argmax(dim=1)：对每个样本取预测概率最大的类别索引；== y：比较预测类别与真实标签，返回布尔张量；float()：将布尔值转为浮点数；sum()：统计当前批次中正确预测的总数；item()：将张量值转为 Python 标量（便于累加）\n",
    "        n += y.shape[0] #batch_size\n",
    "\n",
    "    return acc_sum/n"
   ]
  },
  {
   "cell_type": "markdown",
   "id": "ade84d0a-cc9b-4004-8339-9ba2274be6c0",
   "metadata": {},
   "source": [
    "### 训练函数与测试函数构建"
   ]
  },
  {
   "cell_type": "code",
   "execution_count": 22,
   "id": "8b033a6a-6d8f-4c98-bf50-c674cc74589f",
   "metadata": {},
   "outputs": [],
   "source": [
    "def train_model(model,train_dataloader,loss_func,optimizer):\n",
    "    \"\"\" 模型训练函数 \"\"\"\n",
    "    model.train()\n",
    "    total_loss = 0.\n",
    "    for x,y in train_dataloader:\n",
    "        y_hat = model(x.to(device))\n",
    "        loss = loss_func(y_hat,y.to(device))\n",
    "\n",
    "        optimizer.zero_grad()\n",
    "        loss.backward()\n",
    "        optimizer.step()\n",
    "\n",
    "        total_loss += loss.item()\n",
    "    return total_loss / len(train_dataloader)\n",
    "\n",
    "def test_model(model,test_dataloader,loss_func):\n",
    "    \"\"\" 模型测试函数 \"\"\"\n",
    "    model.eval()\n",
    "    total_loss = 0.\n",
    "    for x,y in test_dataloader:\n",
    "        x,y = x.to(device), y.to(device)\n",
    "        with torch.no_grad():\n",
    "            y_hat = model(x)\n",
    "            loss = loss_func(y_hat,y)\n",
    "            total_loss += loss.item()\n",
    "\n",
    "    return total_loss / len(test_dataloader), evaluate_accuracy(test_dataloader, model)"
   ]
  },
  {
   "cell_type": "code",
   "execution_count": 24,
   "id": "98be80ec-537d-4dc9-8738-961eea4acbc1",
   "metadata": {},
   "outputs": [],
   "source": [
    "model = net.to(device)\n",
    "loss_func = nn.CrossEntropyLoss()\n",
    "optimizer = torch.optim.Adam(model.parameters(), lr=1e-3)"
   ]
  },
  {
   "cell_type": "markdown",
   "id": "5d2b04b8-0863-4fa5-b936-3b43833d4595",
   "metadata": {},
   "source": [
    "### 模型训练"
   ]
  },
  {
   "cell_type": "code",
   "execution_count": 32,
   "id": "c3d93b88-d529-442d-9c0a-cac9dda0fb92",
   "metadata": {},
   "outputs": [
    {
     "name": "stdout",
     "output_type": "stream",
     "text": [
      "train_loss: 1.4687679069382804, test_loss: 1.4208564622627804, test_acc: 0.502\n",
      "train_loss: 1.426937889687869, test_loss: 1.3770468358493522, test_acc: 0.51094\n",
      "train_loss: 1.3803101917918847, test_loss: 1.3780729056471754, test_acc: 0.5172\n",
      "train_loss: 1.343915581703186, test_loss: 1.3832868443578101, test_acc: 0.51554\n",
      "train_loss: 1.303431399622742, test_loss: 1.2810106491646194, test_acc: 0.56184\n",
      "train_loss: 1.269812389904139, test_loss: 1.2189082103159727, test_acc: 0.59214\n",
      "train_loss: 1.2350188405538092, test_loss: 1.19582511389347, test_acc: 0.60246\n",
      "train_loss: 1.2024818756142441, test_loss: 1.1793766399783552, test_acc: 0.60424\n",
      "train_loss: 1.1728846351711117, test_loss: 1.117942620954855, test_acc: 0.63462\n",
      "train_loss: 1.135592019679595, test_loss: 1.1126128971729132, test_acc: 0.634\n"
     ]
    }
   ],
   "source": [
    "n_epoch = 10\n",
    "\n",
    "train_loss_list = []\n",
    "test_loss_list = []\n",
    "test_acc_list=[]\n",
    "for i in range(n_epoch):\n",
    "    train_loss = train_model(model, train_dataloader, loss_func, optimizer)\n",
    "    test_loss, acc = test_model(model, test_dataloader, loss_func)\n",
    "    \n",
    "    train_loss_list.append(train_loss)\n",
    "    test_loss_list.append(test_loss)\n",
    "    test_acc_list.append(acc)\n",
    "    print(f'train_loss: {train_loss}, test_loss: {test_loss}, test_acc: {acc}')"
   ]
  },
  {
   "cell_type": "markdown",
   "id": "e72d2f10-4df8-4d7d-b8c5-47f679c3c166",
   "metadata": {},
   "source": [
    "### 可视化"
   ]
  },
  {
   "cell_type": "code",
   "execution_count": 36,
   "id": "3656a823-256c-4c31-b17f-83c7514ad49b",
   "metadata": {},
   "outputs": [
    {
     "data": {
      "image/png": "[encoded data removed]",
      "text/plain": [
       "<Figure size 800x400 with 1 Axes>"
      ]
     },
     "metadata": {},
     "output_type": "display_data"
    }
   ],
   "source": [
    "import matplotlib.pyplot as plt\n",
    "\n",
    "plt.figure(figsize=(8, 4))\n",
    "plt.plot(train_loss_list, label=\"train loss\")\n",
    "plt.plot(test_loss_list, label=\"test loss\")\n",
    "plt.plot(test_acc_list, label='acc')\n",
    "plt.title(\"Model Result\")\n",
    "plt.grid()\n",
    "plt.legend()\n",
    "plt.show()"
   ]
  },
  {
   "cell_type": "code",
   "execution_count": null,
   "id": "7cc30fc0-f38f-4ac7-b81e-c1015dfaedc8",
   "metadata": {},
   "outputs": [],
   "source": []
  }
 ],
 "metadata": {
  "kernelspec": {
   "display_name": "pytorch",
   "language": "python",
   "name": "pytorch"
  },
  "language_info": {
   "codemirror_mode": {
    "name": "ipython",
    "version": 3
   },
   "file_extension": ".py",
   "mimetype": "text/x-python",
   "name": "python",
   "nbconvert_exporter": "python",
   "pygments_lexer": "ipython3",
   "version": "3.9.21"
  }
 },
 "nbformat": 4,
 "nbformat_minor": 5
}
